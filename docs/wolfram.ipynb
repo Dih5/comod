{
 "cells": [
  {
   "cell_type": "markdown",
   "metadata": {},
   "source": [
    "# Wolfram integration"
   ]
  },
  {
   "cell_type": "markdown",
   "metadata": {},
   "source": [
    "The package allows to generate Wolfram code describing an existing model."
   ]
  },
  {
   "cell_type": "code",
   "execution_count": 1,
   "metadata": {},
   "outputs": [],
   "source": [
    "import comod"
   ]
  },
  {
   "cell_type": "code",
   "execution_count": 2,
   "metadata": {},
   "outputs": [
    {
     "name": "stdout",
     "output_type": "stream",
     "text": [
      "<|\"system\" -> {D[s[t], t] == -\\[Beta] i[t] / n s[t],\n",
      "D[i[t], t] == \\[Beta] i[t] / n s[t] - \\[Gamma] i[t],\n",
      "D[r[t], t] == \\[Gamma] i[t]},\n",
      "\"states\" -> {s[t],i[t],r[t]},\n",
      "\"parameters\" -> {\\[Beta],\\[Gamma]}|>\n"
     ]
    }
   ],
   "source": [
    "print(comod.sir.to_wolfram())"
   ]
  },
  {
   "cell_type": "markdown",
   "metadata": {},
   "source": [
    "This code can pasted into Mathematica to carry on the work there.\n",
    "\n",
    "A Mathematica demo notebook is available [online](https://github.com/Dih5/comod/blob/master/docs/mma-demo.nb)"
   ]
  },
  {
   "cell_type": "code",
   "execution_count": null,
   "metadata": {},
   "outputs": [],
   "source": []
  }
 ],
 "metadata": {
  "kernelspec": {
   "display_name": "Python 3",
   "language": "python",
   "name": "python3"
  },
  "language_info": {
   "codemirror_mode": {
    "name": "ipython",
    "version": 3
   },
   "file_extension": ".py",
   "mimetype": "text/x-python",
   "name": "python",
   "nbconvert_exporter": "python",
   "pygments_lexer": "ipython3",
   "version": "3.8.3"
  }
 },
 "nbformat": 4,
 "nbformat_minor": 4
}
